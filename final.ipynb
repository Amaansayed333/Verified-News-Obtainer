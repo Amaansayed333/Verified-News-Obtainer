{
 "cells": [
  {
   "cell_type": "code",
   "execution_count": 1,
   "id": "1470edb0-9313-4065-9d89-cac000fa0f24",
   "metadata": {},
   "outputs": [
    {
     "name": "stderr",
     "output_type": "stream",
     "text": [
      "C:\\Users\\user\\AppData\\Local\\Temp\\ipykernel_1120\\2072865530.py:28: SettingWithCopyWarning: \n",
      "A value is trying to be set on a copy of a slice from a DataFrame.\n",
      "Try using .loc[row_indexer,col_indexer] = value instead\n",
      "\n",
      "See the caveats in the documentation: https://pandas.pydata.org/pandas-docs/stable/user_guide/indexing.html#returning-a-view-versus-a-copy\n",
      "  datafake_manual_testing['class'] = 0\n",
      "C:\\Users\\user\\AppData\\Local\\Temp\\ipykernel_1120\\2072865530.py:29: SettingWithCopyWarning: \n",
      "A value is trying to be set on a copy of a slice from a DataFrame.\n",
      "Try using .loc[row_indexer,col_indexer] = value instead\n",
      "\n",
      "See the caveats in the documentation: https://pandas.pydata.org/pandas-docs/stable/user_guide/indexing.html#returning-a-view-versus-a-copy\n",
      "  datatrue_manual_testing['class'] = 1\n"
     ]
    }
   ],
   "source": [
    "import numpy as np\n",
    "import pandas as pd\n",
    "import re\n",
    "import seaborn as sns\n",
    "import matplotlib.pyplot as plt\n",
    "from sklearn.model_selection import train_test_split\n",
    "from sklearn.metrics import accuracy_score, classification_report\n",
    "import string\n",
    "from sklearn.feature_extraction.text import TfidfVectorizer\n",
    "from sklearn.linear_model import LogisticRegression\n",
    "from sklearn.metrics.pairwise import cosine_similarity\n",
    "\n",
    "# Load datasets\n",
    "datafake = pd.read_csv('Fake.csv')\n",
    "datatrue = pd.read_csv('True.csv')\n",
    "\n",
    "# Assign class labels\n",
    "datafake[\"class\"] = 0\n",
    "datatrue[\"class\"] = 1\n",
    "\n",
    "# Remove last 10 rows from datafake and datatrue for manual testing\n",
    "datafake_manual_testing = datafake.tail(10)\n",
    "datafake.drop(datafake.index[-10:], inplace=True)\n",
    "\n",
    "datatrue_manual_testing = datatrue.tail(10)\n",
    "datatrue.drop(datatrue.index[-10:], inplace=True)\n",
    "\n",
    "datafake_manual_testing['class'] = 0\n",
    "datatrue_manual_testing['class'] = 1\n",
    "\n",
    "# Merge the datasets\n",
    "data_merge = pd.concat([datafake, datatrue], axis=0)\n",
    "data_merge.head(5)\n",
    "data_merge.columns\n",
    "\n",
    "# Drop unnecessary columns and reset index\n",
    "data = data_merge.drop(['title', 'subject', 'date'], axis=1)\n",
    "data.reset_index(inplace=True)\n",
    "data.drop(['index'], axis=1, inplace=True)\n",
    "\n",
    "# Preprocess text\n",
    "def preprocess_text(text):\n",
    "    text = text.lower()\n",
    "    text = re.sub('\\[.*?]', '', text)\n",
    "    text = re.sub(\"\\\\W\", \" \", text)\n",
    "    text = re.sub('https?://\\S+|www\\.\\S+', '', text)\n",
    "    text = re.sub('<.*?>+', '', text)\n",
    "    text = re.sub('[%s]' % re.escape(string.punctuation), '', text)\n",
    "    text = re.sub('\\n', '', text)\n",
    "    text = re.sub('\\w*\\d\\w*', '', text)\n",
    "    return text\n",
    "\n",
    "data['text'] = data['text'].apply(preprocess_text)\n",
    "\n",
    "# Vectorize the text using TfidfVectorizer\n",
    "vectorization = TfidfVectorizer()\n",
    "x = vectorization.fit_transform(data['text'])\n",
    "\n",
    "# Split the data\n",
    "y = data['class']\n",
    "x_train, x_test, y_train, y_test = train_test_split(x, y, test_size=0.25, random_state=42)\n",
    "\n",
    "# Train the Logistic Regression model\n",
    "LR = LogisticRegression()\n",
    "LR.fit(x_train, y_train)\n",
    "pred_lr = LR.predict(x_test)\n",
    "\n",
    "# Preprocess true news for similarity checking using the same vectorizer\n",
    "datatrue['text'] = datatrue['text'].apply(preprocess_text)\n",
    "true_news_vectorized = vectorization.transform(datatrue['text'])\n",
    "\n",
    "def output_label(n):\n",
    "    return \"This news is Fake\" if n == 0 else \"This is not a fake news\"\n",
    "\n",
    "def find_related_true_news(fake_news_vector):\n",
    "    similarities = cosine_similarity(fake_news_vector, true_news_vectorized)\n",
    "    most_similar_idx = similarities.argmax()\n",
    "    return datatrue.iloc[most_similar_idx]['text']\n",
    "\n",
    "def manual_testing(news):\n",
    "    news_preprocessed = preprocess_text(news)\n",
    "    news_vectorized = vectorization.transform([news_preprocessed])\n",
    "    pred_LR = LR.predict(news_vectorized)\n",
    "    \n",
    "    if pred_LR[0] == 0:\n",
    "        related_true_news = find_related_true_news(news_vectorized)\n",
    "        result = \"This news is Fake\"\n",
    "        related_news = f\"\\nRelated true news:\\n{related_true_news}\"\n",
    "    else:\n",
    "        result = \"This is not a fake news\"\n",
    "        related_news = \"\"\n",
    "    \n",
    "    return print(f\"\\n\\nLR Prediction: {result}{related_news}\")\n",
    "\n",
    "# Test with an input news\n"
   ]
  },
  {
   "cell_type": "code",
   "execution_count": 4,
   "id": "8dddbb5a-2e6e-4005-b169-601e5cb86a1a",
   "metadata": {},
   "outputs": [
    {
     "name": "stdin",
     "output_type": "stream",
     "text": [
      "Enter news text:  A U.S. appeals court on Friday said President Donald Trump's hotly contested travel ban targeting people from six Muslim-majority countries should not be applied to people with strong U.S. ties\n"
     ]
    },
    {
     "name": "stdout",
     "output_type": "stream",
     "text": [
      "\n",
      "\n",
      "LR Prediction: This is not a fake news\n"
     ]
    }
   ],
   "source": [
    "news = str(input(\"Enter news text: \"))\n",
    "manual_testing(news)\n"
   ]
  },
  {
   "cell_type": "code",
   "execution_count": null,
   "id": "12237276-3c01-461a-8fcd-31b4bfd991fb",
   "metadata": {},
   "outputs": [],
   "source": []
  },
  {
   "cell_type": "code",
   "execution_count": null,
   "id": "07ef4ab9-55b5-4270-b34d-b32f255f2c12",
   "metadata": {},
   "outputs": [],
   "source": []
  }
 ],
 "metadata": {
  "kernelspec": {
   "display_name": "Python 3 (ipykernel)",
   "language": "python",
   "name": "python3"
  },
  "language_info": {
   "codemirror_mode": {
    "name": "ipython",
    "version": 3
   },
   "file_extension": ".py",
   "mimetype": "text/x-python",
   "name": "python",
   "nbconvert_exporter": "python",
   "pygments_lexer": "ipython3",
   "version": "3.11.7"
  }
 },
 "nbformat": 4,
 "nbformat_minor": 5
}
